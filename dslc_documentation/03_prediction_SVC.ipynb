{
 "cells": [
  {
   "cell_type": "markdown",
   "metadata": {},
   "source": [
    "# Prediction: Logistic Regression\n",
    "\n",
    "> **Warning!** Please run `01_cleaning.ipynb` first if you haven't already"
   ]
  },
  {
   "cell_type": "code",
   "execution_count": 4,
   "metadata": {},
   "outputs": [],
   "source": [
    "import pandas as pd\n",
    "import numpy as np\n",
    "import torch\n",
    "import torch.nn as nn\n",
    "import matplotlib.pyplot as plt\n",
    "from sklearn.preprocessing import MinMaxScaler\n",
    "from sklearn.model_selection import train_test_split\n",
    "from sklearn.metrics import confusion_matrix\n",
    "from functions.constants import BM_NAME, STARTDATE, ENDDATE, N_THRESHOLD_BPS,DATA_DIR\n",
    "from functions.helper_fns import featurize_time_series \n",
    "from sklearn.metrics import accuracy_score, precision_score, recall_score, f1_score, roc_auc_score\n",
    "import seaborn as sns"
   ]
  },
  {
   "cell_type": "code",
   "execution_count": 5,
   "metadata": {},
   "outputs": [
    {
     "name": "stdout",
     "output_type": "stream",
     "text": [
      "Loaded active returns from ./../data/SP500_active_returns.csv\n",
      "Loaded active returns thresholded from ./../data/SP500_active_returns_thresholded_100bps.csv\n"
     ]
    }
   ],
   "source": [
    "active_returns_path = DATA_DIR + BM_NAME + \"_active_returns.csv\"\n",
    "active_returns = pd.read_csv(active_returns_path, index_col=0, parse_dates=True)\n",
    "print(\"Loaded active returns from\", active_returns_path)\n",
    "active_returns_thresholded_path = DATA_DIR + BM_NAME + \"_active_returns_thresholded_\" + str(N_THRESHOLD_BPS) + \"bps.csv\"\n",
    "active_returns_thresholded = pd.read_csv(active_returns_thresholded_path, index_col=0, parse_dates=True)\n",
    "print(\"Loaded active returns thresholded from\", active_returns_thresholded_path)"
   ]
  },
  {
   "cell_type": "code",
   "execution_count": 6,
   "metadata": {},
   "outputs": [
    {
     "data": {
      "text/html": [
       "<div>\n",
       "<style scoped>\n",
       "    .dataframe tbody tr th:only-of-type {\n",
       "        vertical-align: middle;\n",
       "    }\n",
       "\n",
       "    .dataframe tbody tr th {\n",
       "        vertical-align: top;\n",
       "    }\n",
       "\n",
       "    .dataframe thead th {\n",
       "        text-align: right;\n",
       "    }\n",
       "</style>\n",
       "<table border=\"1\" class=\"dataframe\">\n",
       "  <thead>\n",
       "    <tr style=\"text-align: right;\">\n",
       "      <th></th>\n",
       "      <th>Ticker</th>\n",
       "      <th>Date</th>\n",
       "      <th>active_returns_1b</th>\n",
       "      <th>active_returns_1w</th>\n",
       "      <th>active_returns_1m</th>\n",
       "      <th>active_returns_1q</th>\n",
       "      <th>active_returns_1y</th>\n",
       "    </tr>\n",
       "  </thead>\n",
       "  <tbody>\n",
       "    <tr>\n",
       "      <th>0</th>\n",
       "      <td>GS UN</td>\n",
       "      <td>2021-09-01</td>\n",
       "      <td>0.0</td>\n",
       "      <td>0.0</td>\n",
       "      <td>0.0</td>\n",
       "      <td>0.0</td>\n",
       "      <td>0.0</td>\n",
       "    </tr>\n",
       "    <tr>\n",
       "      <th>1</th>\n",
       "      <td>GS UN</td>\n",
       "      <td>2021-02-03</td>\n",
       "      <td>0.0</td>\n",
       "      <td>1.0</td>\n",
       "      <td>1.0</td>\n",
       "      <td>1.0</td>\n",
       "      <td>1.0</td>\n",
       "    </tr>\n",
       "    <tr>\n",
       "      <th>2</th>\n",
       "      <td>GS UN</td>\n",
       "      <td>2018-03-29</td>\n",
       "      <td>0.0</td>\n",
       "      <td>0.0</td>\n",
       "      <td>0.0</td>\n",
       "      <td>0.0</td>\n",
       "      <td>0.0</td>\n",
       "    </tr>\n",
       "    <tr>\n",
       "      <th>3</th>\n",
       "      <td>GS UN</td>\n",
       "      <td>2022-07-26</td>\n",
       "      <td>0.0</td>\n",
       "      <td>0.0</td>\n",
       "      <td>0.0</td>\n",
       "      <td>0.0</td>\n",
       "      <td>0.0</td>\n",
       "    </tr>\n",
       "    <tr>\n",
       "      <th>4</th>\n",
       "      <td>GS UN</td>\n",
       "      <td>2020-08-13</td>\n",
       "      <td>0.0</td>\n",
       "      <td>1.0</td>\n",
       "      <td>1.0</td>\n",
       "      <td>1.0</td>\n",
       "      <td>1.0</td>\n",
       "    </tr>\n",
       "    <tr>\n",
       "      <th>...</th>\n",
       "      <td>...</td>\n",
       "      <td>...</td>\n",
       "      <td>...</td>\n",
       "      <td>...</td>\n",
       "      <td>...</td>\n",
       "      <td>...</td>\n",
       "      <td>...</td>\n",
       "    </tr>\n",
       "    <tr>\n",
       "      <th>2447</th>\n",
       "      <td>GS UN</td>\n",
       "      <td>2015-09-18</td>\n",
       "      <td>0.0</td>\n",
       "      <td>0.0</td>\n",
       "      <td>0.0</td>\n",
       "      <td>0.0</td>\n",
       "      <td>0.0</td>\n",
       "    </tr>\n",
       "    <tr>\n",
       "      <th>2448</th>\n",
       "      <td>GS UN</td>\n",
       "      <td>2016-12-19</td>\n",
       "      <td>0.0</td>\n",
       "      <td>0.0</td>\n",
       "      <td>0.0</td>\n",
       "      <td>0.0</td>\n",
       "      <td>0.0</td>\n",
       "    </tr>\n",
       "    <tr>\n",
       "      <th>2449</th>\n",
       "      <td>GS UN</td>\n",
       "      <td>2018-08-06</td>\n",
       "      <td>0.0</td>\n",
       "      <td>0.0</td>\n",
       "      <td>0.0</td>\n",
       "      <td>0.0</td>\n",
       "      <td>0.0</td>\n",
       "    </tr>\n",
       "    <tr>\n",
       "      <th>2450</th>\n",
       "      <td>GS UN</td>\n",
       "      <td>2022-03-08</td>\n",
       "      <td>0.0</td>\n",
       "      <td>1.0</td>\n",
       "      <td>1.0</td>\n",
       "      <td>1.0</td>\n",
       "      <td>1.0</td>\n",
       "    </tr>\n",
       "    <tr>\n",
       "      <th>2451</th>\n",
       "      <td>GS UN</td>\n",
       "      <td>2021-09-15</td>\n",
       "      <td>0.0</td>\n",
       "      <td>0.0</td>\n",
       "      <td>0.0</td>\n",
       "      <td>0.0</td>\n",
       "      <td>0.0</td>\n",
       "    </tr>\n",
       "  </tbody>\n",
       "</table>\n",
       "<p>2452 rows × 7 columns</p>\n",
       "</div>"
      ],
      "text/plain": [
       "     Ticker        Date  active_returns_1b  active_returns_1w  \\\n",
       "0     GS UN  2021-09-01                0.0                0.0   \n",
       "1     GS UN  2021-02-03                0.0                1.0   \n",
       "2     GS UN  2018-03-29                0.0                0.0   \n",
       "3     GS UN  2022-07-26                0.0                0.0   \n",
       "4     GS UN  2020-08-13                0.0                1.0   \n",
       "...     ...         ...                ...                ...   \n",
       "2447  GS UN  2015-09-18                0.0                0.0   \n",
       "2448  GS UN  2016-12-19                0.0                0.0   \n",
       "2449  GS UN  2018-08-06                0.0                0.0   \n",
       "2450  GS UN  2022-03-08                0.0                1.0   \n",
       "2451  GS UN  2021-09-15                0.0                0.0   \n",
       "\n",
       "      active_returns_1m  active_returns_1q  active_returns_1y  \n",
       "0                   0.0                0.0                0.0  \n",
       "1                   1.0                1.0                1.0  \n",
       "2                   0.0                0.0                0.0  \n",
       "3                   0.0                0.0                0.0  \n",
       "4                   1.0                1.0                1.0  \n",
       "...                 ...                ...                ...  \n",
       "2447                0.0                0.0                0.0  \n",
       "2448                0.0                0.0                0.0  \n",
       "2449                0.0                0.0                0.0  \n",
       "2450                1.0                1.0                1.0  \n",
       "2451                0.0                0.0                0.0  \n",
       "\n",
       "[2452 rows x 7 columns]"
      ]
     },
     "execution_count": 6,
     "metadata": {},
     "output_type": "execute_result"
    }
   ],
   "source": [
    "TEST_TICKER = \"GS UN\" # Goldman Sachs--also try \"AAPL UW\" and \"JPM UN\"\n",
    "test_ticker_df = active_returns_thresholded[active_returns_thresholded[\"Ticker\"] == TEST_TICKER]\n",
    "test_ticker_df.reset_index(drop=True, inplace=True)\n",
    "test_ticker_df"
   ]
  },
  {
   "cell_type": "code",
   "execution_count": 7,
   "metadata": {},
   "outputs": [
    {
     "name": "stdout",
     "output_type": "stream",
     "text": [
      "X shape: (249991, 12)\n",
      "    ar_1w_t_minus_1  ar_1w_t_minus_2  ar_1w_t_minus_3  ar_1w_t_minus_4  \\\n",
      "12              0.0              0.0              0.0              1.0   \n",
      "13              0.0              0.0              0.0              0.0   \n",
      "14              1.0              0.0              0.0              0.0   \n",
      "15              1.0              1.0              0.0              0.0   \n",
      "16              0.0              1.0              1.0              0.0   \n",
      "\n",
      "    ar_1w_t_minus_5  ar_1w_t_minus_6  ar_1w_t_minus_7  ar_1w_t_minus_8  \\\n",
      "12              0.0              0.0              1.0              1.0   \n",
      "13              1.0              0.0              0.0              1.0   \n",
      "14              0.0              1.0              0.0              0.0   \n",
      "15              0.0              0.0              1.0              0.0   \n",
      "16              0.0              0.0              0.0              1.0   \n",
      "\n",
      "    ar_1w_t_minus_9  ar_1w_t_minus_10  ar_1w_t_minus_11  ar_1w_t_minus_12  \n",
      "12              0.0               0.0               0.0               0.0  \n",
      "13              1.0               0.0               0.0               0.0  \n",
      "14              1.0               1.0               0.0               0.0  \n",
      "15              0.0               1.0               1.0               0.0  \n",
      "16              0.0               0.0               1.0               1.0  \n",
      "y shape: (249991, 1)\n",
      "    ar_1w_t\n",
      "12      0.0\n",
      "13      1.0\n",
      "14      1.0\n",
      "15      0.0\n",
      "16      0.0\n"
     ]
    }
   ],
   "source": [
    "NUM_FEATURES = 12\n",
    "PREDICTION_PERIOD = \"1w\"\n",
    "MODEL_USING_DF = active_returns_thresholded\n",
    "# MODEL_USING_DF = test_ticker_df #turn this on to run for one company\n",
    "df = featurize_time_series(MODEL_USING_DF, PREDICTION_PERIOD, NUM_FEATURES)\n",
    "target_var = \"ar_\" + PREDICTION_PERIOD + \"_t\"\n",
    "X = df.drop(columns=[target_var, \"Date\", \"Ticker\"])\n",
    "y = df[[target_var]]\n",
    "print(\"X shape:\", X.shape)\n",
    "print(X.head())\n",
    "print(\"y shape:\", y.shape)\n",
    "print(y.head())\n",
    "X = X.to_numpy()\n",
    "y = y.to_numpy()"
   ]
  },
  {
   "cell_type": "code",
   "execution_count": 8,
   "metadata": {},
   "outputs": [
    {
     "name": "stdout",
     "output_type": "stream",
     "text": [
      "X_train shape: (149994, 12)\n",
      "X_eval shape: (49998, 12)\n",
      "X_test shape: (49999, 12)\n",
      "y_train shape: (149994, 1)\n",
      "y_eval shape: (49998, 1)\n",
      "y_test shape: (49999, 1)\n"
     ]
    }
   ],
   "source": [
    "TEST_FRACTION = 0.2\n",
    "EVAL_FRACTION = 0.2\n",
    "X_train_and_eval, X_test, y_train_and_eval, y_test = train_test_split(X, y, test_size=TEST_FRACTION, shuffle=False)\n",
    "X_train, X_eval, y_train, y_eval = train_test_split(X_train_and_eval, y_train_and_eval, test_size=EVAL_FRACTION/(1-TEST_FRACTION), shuffle=False)\n",
    "print(\"X_train shape:\", X_train.shape)\n",
    "print(\"X_eval shape:\", X_eval.shape)\n",
    "print(\"X_test shape:\", X_test.shape)\n",
    "print(\"y_train shape:\", y_train.shape)\n",
    "print(\"y_eval shape:\", y_eval.shape)\n",
    "print(\"y_test shape:\", y_test.shape)"
   ]
  },
  {
   "cell_type": "markdown",
   "metadata": {},
   "source": [
    "## Train a simple SVC "
   ]
  },
  {
   "cell_type": "code",
   "execution_count": 9,
   "metadata": {},
   "outputs": [],
   "source": [
    "from sklearn.svm import SVC\n",
    "from sklearn.metrics import accuracy_score, precision_score, recall_score, f1_score, roc_auc_score, confusion_matrix\n",
    "import seaborn as sns\n",
    "import matplotlib.pyplot as plt"
   ]
  },
  {
   "cell_type": "code",
   "execution_count": 10,
   "metadata": {},
   "outputs": [
    {
     "data": {
      "text/plain": [
       "SVC(kernel='linear', probability=True)"
      ]
     },
     "execution_count": 10,
     "metadata": {},
     "output_type": "execute_result"
    }
   ],
   "source": [
    "#Train an SVM model\n",
    "model = SVC(probability=True, kernel=\"linear\")\n",
    "model.fit(X_train, y_train.ravel()) #  # Use .ravel() to ensure y_train is a 1D array"
   ]
  },
  {
   "cell_type": "code",
   "execution_count": 12,
   "metadata": {},
   "outputs": [
    {
     "name": "stderr",
     "output_type": "stream",
     "text": [
      "c:\\Python36\\lib\\site-packages\\sklearn\\metrics\\_classification.py:1248: UndefinedMetricWarning: Precision is ill-defined and being set to 0.0 due to no predicted samples. Use `zero_division` parameter to control this behavior.\n",
      "  _warn_prf(average, modifier, msg_start, len(result))\n"
     ]
    },
    {
     "name": "stdout",
     "output_type": "stream",
     "text": [
      "Accuracy: 0.6432857314292572\n",
      "Precision: 0.0\n",
      "Recall: 0.0\n",
      "F1: 0.0\n",
      "ROC AUC: 0.5\n"
     ]
    },
    {
     "data": {
      "image/png": "[encoded data removed]",
      "text/plain": [
       "<Figure size 432x288 with 2 Axes>"
      ]
     },
     "metadata": {
      "needs_background": "light"
     },
     "output_type": "display_data"
    }
   ],
   "source": [
    "# Evaluate the model\n",
    "y_pred = model.predict(X_eval)\n",
    "y_pred_proba = model.predict_proba(X_eval)\n",
    "\n",
    "accuracy = accuracy_score(y_eval, y_pred)\n",
    "precision = precision_score(y_eval, y_pred)\n",
    "recall = recall_score(y_eval, y_pred)\n",
    "f1 = f1_score(y_eval, y_pred)\n",
    "roc_auc = roc_auc_score(y_eval, y_pred_proba[:, 1])\n",
    "\n",
    "print(\"Accuracy:\", accuracy)\n",
    "print(\"Precision:\", precision)\n",
    "print(\"Recall:\", recall)\n",
    "print(\"F1:\", f1)\n",
    "print(\"ROC AUC:\", roc_auc)\n",
    "\n",
    "# Show the confusion matrix\n",
    "cm = confusion_matrix(y_eval, y_pred)\n",
    "sns.heatmap(cm, annot=True, fmt='d')\n",
    "plt.xlabel('Predicted')\n",
    "plt.ylabel('True')\n",
    "plt.title('Confusion Matrix')\n",
    "plt.show()"
   ]
  },
  {
   "cell_type": "code",
   "execution_count": null,
   "metadata": {},
   "outputs": [],
   "source": []
  }
 ],
 "metadata": {
  "kernelspec": {
   "display_name": "Python 3",
   "language": "python",
   "name": "python3"
  },
  "language_info": {
   "codemirror_mode": {
    "name": "ipython",
    "version": 3
   },
   "file_extension": ".py",
   "mimetype": "text/x-python",
   "name": "python",
   "nbconvert_exporter": "python",
   "pygments_lexer": "ipython3",
   "version": "3.6.2"
  }
 },
 "nbformat": 4,
 "nbformat_minor": 2
}
