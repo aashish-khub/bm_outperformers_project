{
 "cells": [
  {
   "cell_type": "markdown",
   "metadata": {},
   "source": [
    "# Prediction: Random Forest \n",
    "\n",
    "> **Warning!** Please run `01_cleaning.ipynb` first if you haven't already"
   ]
  },
  {
   "cell_type": "code",
   "execution_count": 2,
   "metadata": {},
   "outputs": [],
   "source": [
    "import pandas as pd\n",
    "import numpy as np\n",
    "import torch\n",
    "import torch.nn as nn\n",
    "import matplotlib.pyplot as plt\n",
    "from sklearn.preprocessing import MinMaxScaler\n",
    "from sklearn.model_selection import train_test_split\n",
    "from sklearn.metrics import confusion_matrix\n",
    "from functions.constants import BM_NAME, STARTDATE, ENDDATE, N_THRESHOLD_BPS,DATA_DIR\n",
    "from functions.helper_fns import featurize_time_series \n",
    "from sklearn.metrics import accuracy_score, precision_score, recall_score, f1_score, roc_auc_score\n",
    "import seaborn as sns"
   ]
  },
  {
   "cell_type": "code",
   "execution_count": 3,
   "metadata": {},
   "outputs": [
    {
     "name": "stdout",
     "output_type": "stream",
     "text": [
      "Loaded active returns from ./../data/SP500_active_returns.csv\n",
      "Loaded active returns thresholded from ./../data/SP500_active_returns_thresholded_100bps.csv\n"
     ]
    }
   ],
   "source": [
    "active_returns_path = DATA_DIR + BM_NAME + \"_active_returns.csv\"\n",
    "active_returns = pd.read_csv(active_returns_path, index_col=0, parse_dates=True)\n",
    "print(\"Loaded active returns from\", active_returns_path)\n",
    "active_returns_thresholded_path = DATA_DIR + BM_NAME + \"_active_returns_thresholded_\" + str(N_THRESHOLD_BPS) + \"bps.csv\"\n",
    "active_returns_thresholded = pd.read_csv(active_returns_thresholded_path, index_col=0, parse_dates=True)\n",
    "print(\"Loaded active returns thresholded from\", active_returns_thresholded_path)"
   ]
  },
  {
   "cell_type": "code",
   "execution_count": 4,
   "metadata": {},
   "outputs": [
    {
     "data": {
      "text/html": [
       "<div>\n",
       "<style scoped>\n",
       "    .dataframe tbody tr th:only-of-type {\n",
       "        vertical-align: middle;\n",
       "    }\n",
       "\n",
       "    .dataframe tbody tr th {\n",
       "        vertical-align: top;\n",
       "    }\n",
       "\n",
       "    .dataframe thead th {\n",
       "        text-align: right;\n",
       "    }\n",
       "</style>\n",
       "<table border=\"1\" class=\"dataframe\">\n",
       "  <thead>\n",
       "    <tr style=\"text-align: right;\">\n",
       "      <th></th>\n",
       "      <th>Ticker</th>\n",
       "      <th>Date</th>\n",
       "      <th>active_returns_1b</th>\n",
       "      <th>active_returns_1w</th>\n",
       "      <th>active_returns_1m</th>\n",
       "      <th>active_returns_1q</th>\n",
       "      <th>active_returns_1y</th>\n",
       "    </tr>\n",
       "  </thead>\n",
       "  <tbody>\n",
       "    <tr>\n",
       "      <th>0</th>\n",
       "      <td>GS UN</td>\n",
       "      <td>2021-09-01</td>\n",
       "      <td>0.0</td>\n",
       "      <td>0.0</td>\n",
       "      <td>0.0</td>\n",
       "      <td>0.0</td>\n",
       "      <td>0.0</td>\n",
       "    </tr>\n",
       "    <tr>\n",
       "      <th>1</th>\n",
       "      <td>GS UN</td>\n",
       "      <td>2021-02-03</td>\n",
       "      <td>0.0</td>\n",
       "      <td>1.0</td>\n",
       "      <td>1.0</td>\n",
       "      <td>1.0</td>\n",
       "      <td>1.0</td>\n",
       "    </tr>\n",
       "    <tr>\n",
       "      <th>2</th>\n",
       "      <td>GS UN</td>\n",
       "      <td>2018-03-29</td>\n",
       "      <td>0.0</td>\n",
       "      <td>0.0</td>\n",
       "      <td>0.0</td>\n",
       "      <td>0.0</td>\n",
       "      <td>0.0</td>\n",
       "    </tr>\n",
       "    <tr>\n",
       "      <th>3</th>\n",
       "      <td>GS UN</td>\n",
       "      <td>2022-07-26</td>\n",
       "      <td>0.0</td>\n",
       "      <td>0.0</td>\n",
       "      <td>0.0</td>\n",
       "      <td>0.0</td>\n",
       "      <td>0.0</td>\n",
       "    </tr>\n",
       "    <tr>\n",
       "      <th>4</th>\n",
       "      <td>GS UN</td>\n",
       "      <td>2020-08-13</td>\n",
       "      <td>0.0</td>\n",
       "      <td>1.0</td>\n",
       "      <td>1.0</td>\n",
       "      <td>1.0</td>\n",
       "      <td>1.0</td>\n",
       "    </tr>\n",
       "    <tr>\n",
       "      <th>...</th>\n",
       "      <td>...</td>\n",
       "      <td>...</td>\n",
       "      <td>...</td>\n",
       "      <td>...</td>\n",
       "      <td>...</td>\n",
       "      <td>...</td>\n",
       "      <td>...</td>\n",
       "    </tr>\n",
       "    <tr>\n",
       "      <th>2447</th>\n",
       "      <td>GS UN</td>\n",
       "      <td>2015-09-18</td>\n",
       "      <td>0.0</td>\n",
       "      <td>0.0</td>\n",
       "      <td>0.0</td>\n",
       "      <td>0.0</td>\n",
       "      <td>0.0</td>\n",
       "    </tr>\n",
       "    <tr>\n",
       "      <th>2448</th>\n",
       "      <td>GS UN</td>\n",
       "      <td>2016-12-19</td>\n",
       "      <td>0.0</td>\n",
       "      <td>0.0</td>\n",
       "      <td>0.0</td>\n",
       "      <td>0.0</td>\n",
       "      <td>0.0</td>\n",
       "    </tr>\n",
       "    <tr>\n",
       "      <th>2449</th>\n",
       "      <td>GS UN</td>\n",
       "      <td>2018-08-06</td>\n",
       "      <td>0.0</td>\n",
       "      <td>0.0</td>\n",
       "      <td>0.0</td>\n",
       "      <td>0.0</td>\n",
       "      <td>0.0</td>\n",
       "    </tr>\n",
       "    <tr>\n",
       "      <th>2450</th>\n",
       "      <td>GS UN</td>\n",
       "      <td>2022-03-08</td>\n",
       "      <td>0.0</td>\n",
       "      <td>1.0</td>\n",
       "      <td>1.0</td>\n",
       "      <td>1.0</td>\n",
       "      <td>1.0</td>\n",
       "    </tr>\n",
       "    <tr>\n",
       "      <th>2451</th>\n",
       "      <td>GS UN</td>\n",
       "      <td>2021-09-15</td>\n",
       "      <td>0.0</td>\n",
       "      <td>0.0</td>\n",
       "      <td>0.0</td>\n",
       "      <td>0.0</td>\n",
       "      <td>0.0</td>\n",
       "    </tr>\n",
       "  </tbody>\n",
       "</table>\n",
       "<p>2452 rows × 7 columns</p>\n",
       "</div>"
      ],
      "text/plain": [
       "     Ticker        Date  active_returns_1b  active_returns_1w  \\\n",
       "0     GS UN  2021-09-01                0.0                0.0   \n",
       "1     GS UN  2021-02-03                0.0                1.0   \n",
       "2     GS UN  2018-03-29                0.0                0.0   \n",
       "3     GS UN  2022-07-26                0.0                0.0   \n",
       "4     GS UN  2020-08-13                0.0                1.0   \n",
       "...     ...         ...                ...                ...   \n",
       "2447  GS UN  2015-09-18                0.0                0.0   \n",
       "2448  GS UN  2016-12-19                0.0                0.0   \n",
       "2449  GS UN  2018-08-06                0.0                0.0   \n",
       "2450  GS UN  2022-03-08                0.0                1.0   \n",
       "2451  GS UN  2021-09-15                0.0                0.0   \n",
       "\n",
       "      active_returns_1m  active_returns_1q  active_returns_1y  \n",
       "0                   0.0                0.0                0.0  \n",
       "1                   1.0                1.0                1.0  \n",
       "2                   0.0                0.0                0.0  \n",
       "3                   0.0                0.0                0.0  \n",
       "4                   1.0                1.0                1.0  \n",
       "...                 ...                ...                ...  \n",
       "2447                0.0                0.0                0.0  \n",
       "2448                0.0                0.0                0.0  \n",
       "2449                0.0                0.0                0.0  \n",
       "2450                1.0                1.0                1.0  \n",
       "2451                0.0                0.0                0.0  \n",
       "\n",
       "[2452 rows x 7 columns]"
      ]
     },
     "execution_count": 4,
     "metadata": {},
     "output_type": "execute_result"
    }
   ],
   "source": [
    "TEST_TICKER = \"GS UN\" # Goldman Sachs--also try \"AAPL UW\" and \"JPM UN\"\n",
    "test_ticker_df = active_returns_thresholded[active_returns_thresholded[\"Ticker\"] == TEST_TICKER]\n",
    "test_ticker_df.reset_index(drop=True, inplace=True)\n",
    "test_ticker_df"
   ]
  },
  {
   "cell_type": "code",
   "execution_count": 5,
   "metadata": {},
   "outputs": [
    {
     "name": "stdout",
     "output_type": "stream",
     "text": [
      "X shape: (249991, 12)\n",
      "    ar_1w_t_minus_1  ar_1w_t_minus_2  ar_1w_t_minus_3  ar_1w_t_minus_4  \\\n",
      "12              0.0              0.0              0.0              1.0   \n",
      "13              0.0              0.0              0.0              0.0   \n",
      "14              1.0              0.0              0.0              0.0   \n",
      "15              1.0              1.0              0.0              0.0   \n",
      "16              0.0              1.0              1.0              0.0   \n",
      "\n",
      "    ar_1w_t_minus_5  ar_1w_t_minus_6  ar_1w_t_minus_7  ar_1w_t_minus_8  \\\n",
      "12              0.0              0.0              1.0              1.0   \n",
      "13              1.0              0.0              0.0              1.0   \n",
      "14              0.0              1.0              0.0              0.0   \n",
      "15              0.0              0.0              1.0              0.0   \n",
      "16              0.0              0.0              0.0              1.0   \n",
      "\n",
      "    ar_1w_t_minus_9  ar_1w_t_minus_10  ar_1w_t_minus_11  ar_1w_t_minus_12  \n",
      "12              0.0               0.0               0.0               0.0  \n",
      "13              1.0               0.0               0.0               0.0  \n",
      "14              1.0               1.0               0.0               0.0  \n",
      "15              0.0               1.0               1.0               0.0  \n",
      "16              0.0               0.0               1.0               1.0  \n",
      "y shape: (249991, 1)\n",
      "    ar_1w_t\n",
      "12      0.0\n",
      "13      1.0\n",
      "14      1.0\n",
      "15      0.0\n",
      "16      0.0\n"
     ]
    }
   ],
   "source": [
    "NUM_FEATURES = 12\n",
    "PREDICTION_PERIOD = \"1w\"\n",
    "MODEL_USING_DF = active_returns_thresholded\n",
    "# MODEL_USING_DF = test_ticker_df #turn this on to run for one company\n",
    "df = featurize_time_series(MODEL_USING_DF, PREDICTION_PERIOD, NUM_FEATURES)\n",
    "target_var = \"ar_\" + PREDICTION_PERIOD + \"_t\"\n",
    "X = df.drop(columns=[target_var, \"Date\", \"Ticker\"])\n",
    "y = df[[target_var]]\n",
    "print(\"X shape:\", X.shape)\n",
    "print(X.head())\n",
    "print(\"y shape:\", y.shape)\n",
    "print(y.head())\n",
    "X = X.to_numpy()\n",
    "y = y.to_numpy()"
   ]
  },
  {
   "cell_type": "code",
   "execution_count": 6,
   "metadata": {},
   "outputs": [
    {
     "name": "stdout",
     "output_type": "stream",
     "text": [
      "X_train shape: (149994, 12)\n",
      "X_eval shape: (49998, 12)\n",
      "X_test shape: (49999, 12)\n",
      "y_train shape: (149994, 1)\n",
      "y_eval shape: (49998, 1)\n",
      "y_test shape: (49999, 1)\n"
     ]
    }
   ],
   "source": [
    "TEST_FRACTION = 0.2\n",
    "EVAL_FRACTION = 0.2\n",
    "X_train_and_eval, X_test, y_train_and_eval, y_test = train_test_split(X, y, test_size=TEST_FRACTION, shuffle=False)\n",
    "X_train, X_eval, y_train, y_eval = train_test_split(X_train_and_eval, y_train_and_eval, test_size=EVAL_FRACTION/(1-TEST_FRACTION), shuffle=False)\n",
    "print(\"X_train shape:\", X_train.shape)\n",
    "print(\"X_eval shape:\", X_eval.shape)\n",
    "print(\"X_test shape:\", X_test.shape)\n",
    "print(\"y_train shape:\", y_train.shape)\n",
    "print(\"y_eval shape:\", y_eval.shape)\n",
    "print(\"y_test shape:\", y_test.shape)"
   ]
  },
  {
   "cell_type": "markdown",
   "metadata": {},
   "source": [
    "## Train a RF"
   ]
  },
  {
   "cell_type": "code",
   "execution_count": 7,
   "metadata": {},
   "outputs": [],
   "source": [
    "from sklearn.ensemble import RandomForestClassifier"
   ]
  },
  {
   "cell_type": "code",
   "execution_count": 8,
   "metadata": {},
   "outputs": [
    {
     "name": "stderr",
     "output_type": "stream",
     "text": [
      "c:\\Python36\\lib\\site-packages\\ipykernel_launcher.py:2: DataConversionWarning: A column-vector y was passed when a 1d array was expected. Please change the shape of y to (n_samples,), for example using ravel().\n",
      "  \n"
     ]
    },
    {
     "name": "stdout",
     "output_type": "stream",
     "text": [
      "y_pred shape: (49998,)\n",
      "y_pred_proba shape: (49998, 2)\n"
     ]
    }
   ],
   "source": [
    "model = RandomForestClassifier(class_weight=\"balanced\")\n",
    "model.fit(X_train, y_train)\n",
    "y_pred = model.predict(X_eval)\n",
    "y_pred_proba = model.predict_proba(X_eval)\n",
    "print(\"y_pred shape:\", y_pred.shape)\n",
    "print(\"y_pred_proba shape:\", y_pred_proba.shape)\n"
   ]
  },
  {
   "cell_type": "code",
   "execution_count": 9,
   "metadata": {},
   "outputs": [
    {
     "name": "stdout",
     "output_type": "stream",
     "text": [
      "Accuracy: 0.53068122724909\n",
      "Precision: 0.37316391817608363\n",
      "Recall: 0.46436781609195404\n",
      "F1: 0.41379999500362236\n",
      "ROC AUC: 0.517297848922254\n"
     ]
    },
    {
     "data": {
      "text/plain": [
       "Text(0.5, 1.0, 'Confusion Matrix for 1w prediction using 12 Features')"
      ]
     },
     "execution_count": 9,
     "metadata": {},
     "output_type": "execute_result"
    },
    {
     "data": {
      "image/png": "[encoded data removed]",
      "text/plain": [
       "<Figure size 432x288 with 2 Axes>"
      ]
     },
     "metadata": {
      "needs_background": "light"
     },
     "output_type": "display_data"
    }
   ],
   "source": [
    "accuracy = accuracy_score(y_eval, y_pred)\n",
    "precision = precision_score(y_eval, y_pred)\n",
    "recall = recall_score(y_eval, y_pred)\n",
    "f1 = f1_score(y_eval, y_pred)\n",
    "roc_auc = roc_auc_score(y_eval, y_pred_proba[:,1])\n",
    "print(\"Accuracy:\", accuracy)\n",
    "print(\"Precision:\", precision)\n",
    "print(\"Recall:\", recall)\n",
    "print(\"F1:\", f1)\n",
    "print(\"ROC AUC:\", roc_auc)\n",
    "#show the confusion matrix in a plot using seaborn. \n",
    "cm = confusion_matrix(y_eval, y_pred)\n",
    "sns.heatmap(cm, annot=True, fmt='d')\n",
    "plt.xlabel('Predicted')\n",
    "plt.ylabel('True')\n",
    "#print title that mentions the prediction period and num features\n",
    "plt.title('Confusion Matrix for ' + PREDICTION_PERIOD + \" prediction using \" + str(NUM_FEATURES) + \" Features\")"
   ]
  },
  {
   "cell_type": "markdown",
   "metadata": {},
   "source": [
    "## Training XGBoost Classifier"
   ]
  },
  {
   "cell_type": "code",
   "execution_count": 11,
   "metadata": {},
   "outputs": [
    {
     "name": "stdout",
     "output_type": "stream",
     "text": [
      "Collecting XGBoost"
     ]
    },
    {
     "name": "stderr",
     "output_type": "stream",
     "text": [
      "ERROR: Exception:\n",
      "Traceback (most recent call last):\n",
      "  File \"c:\\python36\\lib\\site-packages\\pip\\_vendor\\urllib3\\response.py\", line 438, in _error_catcher\n",
      "    yield\n",
      "  File \"c:\\python36\\lib\\site-packages\\pip\\_vendor\\urllib3\\response.py\", line 519, in read"
     ]
    },
    {
     "name": "stdout",
     "output_type": "stream",
     "text": [
      "\n",
      "  Downloading xgboost-1.5.2-py3-none-win_amd64.whl (106.6 MB)\n"
     ]
    },
    {
     "name": "stderr",
     "output_type": "stream",
     "text": [
      "\n",
      "    data = self._fp.read(amt) if not fp_closed else b\"\"\n",
      "  File \"c:\\python36\\lib\\site-packages\\pip\\_vendor\\cachecontrol\\filewrapper.py\", line 62, in read\n",
      "    data = self.__fp.read(amt)\n",
      "  File \"c:\\python36\\lib\\http\\client.py\", line 449, in read\n",
      "    n = self.readinto(b)\n",
      "  File \"c:\\python36\\lib\\http\\client.py\", line 493, in readinto\n",
      "    n = self.fp.readinto(b)\n",
      "  File \"c:\\python36\\lib\\socket.py\", line 586, in readinto\n",
      "    return self._sock.recv_into(b)\n",
      "  File \"c:\\python36\\lib\\ssl.py\", line 1002, in recv_into\n",
      "    return self.read(nbytes, buffer)\n",
      "  File \"c:\\python36\\lib\\ssl.py\", line 865, in read\n",
      "    return self._sslobj.read(len, buffer)\n",
      "  File \"c:\\python36\\lib\\ssl.py\", line 625, in read\n",
      "    v = self._sslobj.read(len, buffer)\n",
      "socket.timeout: The read operation timed out\n",
      "\n",
      "During handling of the above exception, another exception occurred:\n",
      "\n",
      "Traceback (most recent call last):\n",
      "  File \"c:\\python36\\lib\\site-packages\\pip\\_internal\\cli\\base_command.py\", line 164, in exc_logging_wrapper\n",
      "    status = run_func(*args)\n",
      "  File \"c:\\python36\\lib\\site-packages\\pip\\_internal\\cli\\req_command.py\", line 205, in wrapper\n",
      "    return func(self, options, args)\n",
      "  File \"c:\\python36\\lib\\site-packages\\pip\\_internal\\commands\\install.py\", line 339, in run\n"
     ]
    },
    {
     "name": "stderr",
     "output_type": "stream",
     "text": [
      "    reqs, check_supported_wheels=not options.target_dir\n",
      "  File \"c:\\python36\\lib\\site-packages\\pip\\_internal\\resolution\\resolvelib\\resolver.py\", line 93, in resolve\n",
      "    collected.requirements, max_rounds=try_to_avoid_resolution_too_deep\n",
      "  File \"c:\\python36\\lib\\site-packages\\pip\\_vendor\\resolvelib\\resolvers.py\", line 482, in resolve\n",
      "    state = resolution.resolve(requirements, max_rounds=max_rounds)\n",
      "  File \"c:\\python36\\lib\\site-packages\\pip\\_vendor\\resolvelib\\resolvers.py\", line 349, in resolve\n",
      "    self._add_to_criteria(self.state.criteria, r, parent=None)\n",
      "  File \"c:\\python36\\lib\\site-packages\\pip\\_vendor\\resolvelib\\resolvers.py\", line 173, in _add_to_criteria\n",
      "    if not criterion.candidates:\n",
      "  File \"c:\\python36\\lib\\site-packages\\pip\\_vendor\\resolvelib\\structs.py\", line 151, in __bool__\n",
      "    return bool(self._sequence)\n",
      "  File \"c:\\python36\\lib\\site-packages\\pip\\_internal\\resolution\\resolvelib\\found_candidates.py\", line 155, in __bool__\n",
      "    return any(self)\n",
      "  File \"c:\\python36\\lib\\site-packages\\pip\\_internal\\resolution\\resolvelib\\found_candidates.py\", line 143, in <genexpr>\n",
      "    return (c for c in iterator if id(c) not in self._incompatible_ids)\n",
      "  File \"c:\\python36\\lib\\site-packages\\pip\\_internal\\resolution\\resolvelib\\found_candidates.py\", line 47, in _iter_built\n",
      "    candidate = func()\n",
      "  File \"c:\\python36\\lib\\site-packages\\pip\\_internal\\resolution\\resolvelib\\factory.py\", line 206, in _make_candidate_from_link\n",
      "    version=version,\n",
      "  File \"c:\\python36\\lib\\site-packages\\pip\\_internal\\resolution\\resolvelib\\candidates.py\", line 287, in __init__\n",
      "    version=version,\n",
      "  File \"c:\\python36\\lib\\site-packages\\pip\\_internal\\resolution\\resolvelib\\candidates.py\", line 156, in __init__\n",
      "    self.dist = self._prepare()\n",
      "  File \"c:\\python36\\lib\\site-packages\\pip\\_internal\\resolution\\resolvelib\\candidates.py\", line 225, in _prepare\n",
      "    dist = self._prepare_distribution()\n",
      "  File \"c:\\python36\\lib\\site-packages\\pip\\_internal\\resolution\\resolvelib\\candidates.py\", line 292, in _prepare_distribution\n",
      "    return preparer.prepare_linked_requirement(self._ireq, parallel_builds=True)\n",
      "  File \"c:\\python36\\lib\\site-packages\\pip\\_internal\\operations\\prepare.py\", line 482, in prepare_linked_requirement\n",
      "    return self._prepare_linked_requirement(req, parallel_builds)\n",
      "  File \"c:\\python36\\lib\\site-packages\\pip\\_internal\\operations\\prepare.py\", line 528, in _prepare_linked_requirement\n",
      "    link, req.source_dir, self._download, self.download_dir, hashes\n",
      "  File \"c:\\python36\\lib\\site-packages\\pip\\_internal\\operations\\prepare.py\", line 217, in unpack_url\n",
      "    hashes=hashes,\n",
      "  File \"c:\\python36\\lib\\site-packages\\pip\\_internal\\operations\\prepare.py\", line 94, in get_http_url\n",
      "    from_path, content_type = download(link, temp_dir.path)\n",
      "  File \"c:\\python36\\lib\\site-packages\\pip\\_internal\\network\\download.py\", line 145, in __call__\n",
      "    for chunk in chunks:\n",
      "  File \"c:\\python36\\lib\\site-packages\\pip\\_internal\\cli\\progress_bars.py\", line 144, in iter\n",
      "    for x in it:\n",
      "  File \"c:\\python36\\lib\\site-packages\\pip\\_internal\\network\\utils.py\", line 87, in response_chunks\n",
      "    decode_content=False,\n",
      "  File \"c:\\python36\\lib\\site-packages\\pip\\_vendor\\urllib3\\response.py\", line 576, in stream\n",
      "    data = self.read(amt=amt, decode_content=decode_content)\n",
      "  File \"c:\\python36\\lib\\site-packages\\pip\\_vendor\\urllib3\\response.py\", line 541, in read\n",
      "    raise IncompleteRead(self._fp_bytes_read, self.length_remaining)\n",
      "  File \"c:\\python36\\lib\\contextlib.py\", line 99, in __exit__\n",
      "    self.gen.throw(type, value, traceback)\n",
      "  File \"c:\\python36\\lib\\site-packages\\pip\\_vendor\\urllib3\\response.py\", line 443, in _error_catcher\n",
      "    raise ReadTimeoutError(self._pool, None, \"Read timed out.\")\n",
      "pip._vendor.urllib3.exceptions.ReadTimeoutError: HTTPSConnectionPool(host='files.pythonhosted.org', port=443): Read timed out.\n"
     ]
    }
   ],
   "source": [
    "!pip install XGBoost"
   ]
  },
  {
   "cell_type": "code",
   "execution_count": 12,
   "metadata": {},
   "outputs": [
    {
     "ename": "ModuleNotFoundError",
     "evalue": "No module named 'xgboost'",
     "output_type": "error",
     "traceback": [
      "\u001b[1;31m---------------------------------------------------------------------------\u001b[0m",
      "\u001b[1;31mModuleNotFoundError\u001b[0m                       Traceback (most recent call last)",
      "\u001b[1;32m<ipython-input-12-2c1cd1469e76>\u001b[0m in \u001b[0;36m<module>\u001b[1;34m\u001b[0m\n\u001b[0;32m      1\u001b[0m \u001b[1;31m# Import necessary libraries for Boosting\u001b[0m\u001b[1;33m\u001b[0m\u001b[1;33m\u001b[0m\u001b[0m\n\u001b[1;32m----> 2\u001b[1;33m \u001b[1;32mfrom\u001b[0m \u001b[0mxgboost\u001b[0m \u001b[1;32mimport\u001b[0m \u001b[0mXGBClassifier\u001b[0m\u001b[1;33m\u001b[0m\u001b[0m\n\u001b[0m\u001b[0;32m      3\u001b[0m \u001b[1;32mfrom\u001b[0m \u001b[0msklearn\u001b[0m\u001b[1;33m.\u001b[0m\u001b[0mmetrics\u001b[0m \u001b[1;32mimport\u001b[0m \u001b[0maccuracy_score\u001b[0m\u001b[1;33m,\u001b[0m \u001b[0mprecision_score\u001b[0m\u001b[1;33m,\u001b[0m \u001b[0mrecall_score\u001b[0m\u001b[1;33m,\u001b[0m \u001b[0mf1_score\u001b[0m\u001b[1;33m,\u001b[0m \u001b[0mroc_auc_score\u001b[0m\u001b[1;33m,\u001b[0m \u001b[0mconfusion_matrix\u001b[0m\u001b[1;33m\u001b[0m\u001b[0m\n\u001b[0;32m      4\u001b[0m \u001b[1;32mimport\u001b[0m \u001b[0mmatplotlib\u001b[0m\u001b[1;33m.\u001b[0m\u001b[0mpyplot\u001b[0m \u001b[1;32mas\u001b[0m \u001b[0mplt\u001b[0m\u001b[1;33m\u001b[0m\u001b[0m\n\u001b[0;32m      5\u001b[0m \u001b[1;32mimport\u001b[0m \u001b[0mseaborn\u001b[0m \u001b[1;32mas\u001b[0m \u001b[0msns\u001b[0m\u001b[1;33m\u001b[0m\u001b[0m\n",
      "\u001b[1;31mModuleNotFoundError\u001b[0m: No module named 'xgboost'"
     ]
    }
   ],
   "source": [
    "# Import necessary libraries for Boosting\n",
    "from xgboost import XGBClassifier\n",
    "from sklearn.metrics import accuracy_score, precision_score, recall_score, f1_score, roc_auc_score, confusion_matrix\n",
    "import matplotlib.pyplot as plt\n",
    "import seaborn as sns\n",
    "\n",
    "# Instantiate and train XGBoost Classifier\n",
    "xgb_model = XGBClassifier(use_label_encoder=False, eval_metric='logloss')\n",
    "xgb_model.fit(X_train, y_train)\n",
    "\n",
    "# Predictions\n",
    "y_pred_train = xgb_model.predict(X_train)\n",
    "y_pred_eval = xgb_model.predict(X_eval)\n",
    "y_pred_test = xgb_model.predict(X_test)\n",
    "\n",
    "# Evaluate the model\n",
    "metrics = {\n",
    "    'Accuracy': accuracy_score,\n",
    "    'Precision': precision_score,\n",
    "    'Recall': recall_score,\n",
    "    'F1': f1_score,\n",
    "    'ROC AUC': roc_auc_score\n",
    "}\n",
    "\n",
    "results = {}\n",
    "for metric_name, metric_func in metrics.items():\n",
    "    results[metric_name] = {\n",
    "        'Train': metric_func(y_train, y_pred_train),\n",
    "        'Eval': metric_func(y_eval, y_pred_eval),\n",
    "        'Test': metric_func(y_test, y_pred_test)\n",
    "    }\n",
    "\n",
    "# Print results\n",
    "for metric_name, values in results.items():\n",
    "    print(f\"{metric_name}: Train={values['Train']:.4f}, Eval={values['Eval']:.4f}, Test={values['Test']:.4f}\")\n",
    "\n",
    "# Confusion Matrix for Test Set\n",
    "conf_matrix = confusion_matrix(y_test, y_pred_test)\n",
    "plt.figure(figsize=(8, 6))\n",
    "sns.heatmap(conf_matrix, annot=True, fmt='d', cmap='coolwarm')\n",
    "plt.title('Confusion Matrix for XGBoost')\n",
    "plt.xlabel('Predicted')\n",
    "plt.ylabel('True')\n",
    "plt.show()"
   ]
  },
  {
   "cell_type": "code",
   "execution_count": null,
   "metadata": {},
   "outputs": [],
   "source": []
  }
 ],
 "metadata": {
  "kernelspec": {
   "display_name": "Python 3",
   "language": "python",
   "name": "python3"
  },
  "language_info": {
   "codemirror_mode": {
    "name": "ipython",
    "version": 3
   },
   "file_extension": ".py",
   "mimetype": "text/x-python",
   "name": "python",
   "nbconvert_exporter": "python",
   "pygments_lexer": "ipython3",
   "version": "3.6.2"
  }
 },
 "nbformat": 4,
 "nbformat_minor": 2
}
